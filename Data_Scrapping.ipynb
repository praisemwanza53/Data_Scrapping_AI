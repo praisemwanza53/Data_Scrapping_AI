{
  "nbformat": 4,
  "nbformat_minor": 0,
  "metadata": {
    "colab": {
      "provenance": [],
      "authorship_tag": "ABX9TyMnPn4R63Lp8W7bgKCq1vAG",
      "include_colab_link": true
    },
    "kernelspec": {
      "name": "python3",
      "display_name": "Python 3"
    },
    "language_info": {
      "name": "python"
    }
  },
  "cells": [
    {
      "cell_type": "markdown",
      "metadata": {
        "id": "view-in-github",
        "colab_type": "text"
      },
      "source": [
        "<a href=\"https://colab.research.google.com/github/praisemwanza53/Data_Scrapping_AI/blob/main/Data_Scrapping.ipynb\" target=\"_parent\"><img src=\"https://colab.research.google.com/assets/colab-badge.svg\" alt=\"Open In Colab\"/></a>"
      ]
    },
    {
      "cell_type": "code",
      "execution_count": 1,
      "metadata": {
        "colab": {
          "base_uri": "https://localhost:8080/"
        },
        "id": "u2oAjBEsFwvD",
        "outputId": "55fd12b2-fff5-4525-e48a-19dce12bd554"
      },
      "outputs": [
        {
          "output_type": "stream",
          "name": "stdout",
          "text": [
            "Requirement already satisfied: requests in /usr/local/lib/python3.10/dist-packages (2.31.0)\n",
            "Requirement already satisfied: beautifulsoup4 in /usr/local/lib/python3.10/dist-packages (4.12.3)\n",
            "Requirement already satisfied: charset-normalizer<4,>=2 in /usr/local/lib/python3.10/dist-packages (from requests) (3.3.2)\n",
            "Requirement already satisfied: idna<4,>=2.5 in /usr/local/lib/python3.10/dist-packages (from requests) (3.6)\n",
            "Requirement already satisfied: urllib3<3,>=1.21.1 in /usr/local/lib/python3.10/dist-packages (from requests) (2.0.7)\n",
            "Requirement already satisfied: certifi>=2017.4.17 in /usr/local/lib/python3.10/dist-packages (from requests) (2024.2.2)\n",
            "Requirement already satisfied: soupsieve>1.2 in /usr/local/lib/python3.10/dist-packages (from beautifulsoup4) (2.5)\n"
          ]
        }
      ],
      "source": [
        "!pip install requests beautifulsoup4"
      ]
    },
    {
      "cell_type": "code",
      "source": [
        "https://apm.byu.edu/prism/index.php/Projects/NonlinearModelLibrary"
      ],
      "metadata": {
        "id": "5-EcJwwHJkaV"
      },
      "execution_count": null,
      "outputs": []
    },
    {
      "cell_type": "code",
      "source": [
        "import requests\n",
        "from bs4 import BeautifulSoup\n",
        "\n",
        "# URL of the webpage to scrape\n",
        "url = 'https://apm.byu.edu/prism/index.php/Projects/NonlinearModelLibrary'\n",
        "\n",
        "# Send a GET request to the URL\n",
        "response = requests.get(url)\n",
        "\n",
        "# Check if the request was successful (status code 200)\n",
        "if response.status_code == 200:\n",
        "    # Parse the HTML content of the webpage\n",
        "    soup = BeautifulSoup(response.text, 'html.parser')\n",
        "\n",
        "    # Find and extract the desired content from the webpage\n",
        "    # For example, let's extract all the text within <p> tags\n",
        "    paragraphs = soup.find_all('p')\n",
        "\n",
        "    # Create/open a text file to write the scraped data\n",
        "    with open('/content/scraped_data_nonlibearmodellibrary.txt', 'w', encoding='utf-8') as file:\n",
        "        # Write each paragraph to the text file\n",
        "        for paragraph in paragraphs:\n",
        "            file.write(paragraph.get_text() + '\\n')\n",
        "\n",
        "    print(\"Scraping and writing to file completed.\")\n",
        "else:\n",
        "    print(\"Failed to retrieve webpage.\")"
      ],
      "metadata": {
        "colab": {
          "base_uri": "https://localhost:8080/"
        },
        "id": "QCpuUS4NJl-k",
        "outputId": "df0a7875-6866-439a-959e-9355fd7b6805"
      },
      "execution_count": 2,
      "outputs": [
        {
          "output_type": "stream",
          "name": "stdout",
          "text": [
            "Scraping and writing to file completed.\n"
          ]
        }
      ]
    },
    {
      "cell_type": "code",
      "source": [
        "#reaading the data scrapped\n",
        "\n",
        "# Read a file from Google Drive\n",
        "file_path = '/content/scraped_data_nonlibearmodellibrary.txt'\n",
        "with open(file_path, 'r') as file:\n",
        "    data = file.read()\n",
        "    print(data)\n"
      ],
      "metadata": {
        "colab": {
          "base_uri": "https://localhost:8080/"
        },
        "id": "m4HJUc5OKQz-",
        "outputId": "d9a7fad0-45b1-428e-b687-12fffee7782a"
      },
      "execution_count": 3,
      "outputs": [
        {
          "output_type": "stream",
          "name": "stdout",
          "text": [
            "This nonlinear model library is a collection of process models consisting of differential and algebraic equations. Applications include processes from life sciences, energy research, electric vehicles, distillation, and benchmarking applications. The library spans traditional to cutting edge technologies. It serves as a valuable starting point for the development of more sophisticated control or estimation exercises or for specific applications.\n",
            "\n",
            "Some models are developed in the MATLAB language while others are in the Gekko Optimization Suite (Python) or the APMonitor modeling language (Matlab and Python). The link in the Download column is a zipped archive of all files needed to simulate the system for MATLAB. For APMonitor or Gekko models it is a link to the source model page. Finally, the description gives a brief overview of the model. Similar models are generally grouped together with the simplest model appearing first.\n",
            "\n",
            "Description\n",
            "The library consists of nonlinear models that include chemical reactors, binary distillation columns, and simple mechanical systems.  The complexity of the models range from a simple ODE model with 1 input and 1 state to a large DAE model with 2 inputs and 125 states.\n",
            "\n",
            "Most of the models are taken from published articles. Currently, all the models are written in MATLAB, APMonitor, or Gekko. Each one has a step response driver where the model response is computed with an numerical solution engine such as the MATLAB integrator (e.g. ODE15s).\n",
            "\n",
            "CSTR - Continuously Stirred Tank Reactor\n",
            "\n",
            "The CSTR model with A->B exothermic reaction is the most popular model in the library.  It is a standard model that has been used in reaction engineering textbooks, simulation and control research, and demonstrations for industrial software.\n",
            "\n",
            "The model has 2 states: the concentration of A and the temperature of the reaction vessel liquid.  The manipulated variable is the jacket water temperature.  At a jacket temperature of 305K, the reactor model has an oscillatory response.  The oscillations are characterized by reaction run-away with a temperature spike.  When the concentration drops to a low value, the reactor cools until the concentration builds and there is another run-away reaction.\n",
            "\n",
            "CSTR - Continuously Stirred Tank Reactor with Intermediate Species\n",
            "\n",
            "Models 1-5, 10 are all variations of the CSTR model.  Model 3 in particular, has a reaction intermediary (B).  There is an additional equation and variable to account for the intermediate reaction step.\n",
            "\n",
            "Binary Distillation Column with 30 trays (cyclohexane n-heptane)\n",
            "\n",
            "Distillation column models are generally good test models for nonlinear model reduction and identification.  The concentrations at each stage or tray are highly correlated.  The dynamics of the distillation process can be described by a relatively few number of underlying dynamic states.  A couple papers have been published with this model as an example application.  One in particular is:\n",
            "\n",
            "Hahn, J. and T.F. Edgar, An improved method for nonlinear model reduction using balancing of empirical gramians, Computers and Chemical Engineering, 26, pp. 1379-1397, (2002)\n",
            "\n",
            "This response shows the system response after a step change in the reflux ratio.  Each trajectory represents the mole fraction of cyclohexane at each tray.  The top reflux material becomes less pure (more n-heptane) due to the increased draw from the top of the column.\n",
            "\n",
            "Cruise Control with Disturbance\n",
            "\n",
            "This simple mechanical model is of an object that is seeking to maintain constant speed while subject to disturbances.  In this case, the disturbance is the incline or decline angle.\n",
            "\n",
            "Gravity Drained Water Tank\n",
            "\n",
            "This gravity drained water tank was a control experiment for Tom Edgar's undergraduate control course.  The students had to perform experiments to determine the process time constant and tune a PID controller.  The model gave excellent predictions of level (or volume) and was used to demonstrate the advantage of model predictive control (MPC) over PID control for level control.\n",
            "\n",
            "The response shows the inlet valve 80% open for 60 seconds.  The volume reaches 1400 mL before the inlet value is shut and the tank drains.\n",
            "\n",
            "Human Blood Glucose Model for Insulin Control - Type I Diabetes\n",
            "\n",
            "This model is combined from two related papers:\n",
            "\n",
            "S. M. Lynch and B. W. Bequette, Estimation based Model Predictive Control of Blood Glucose in Type I Diabetes: A Simulation Study, Proc. 27th IEEE Northeast Bioengineering Conference, IEEE, 2001.\n",
            "\n",
            "and\n",
            "\n",
            "S. M. Lynch and B. W. Bequette, Model Predictive Control of Blood Glucose in type I Diabetics using Subcutaneous Glucose Measurements, Proc. ACC, Anchorage, AK, 2002.\n",
            "\n",
            "It is a simple 3 state model that effectively describes blood glucose and insulin dynamics.  The 3 states are plasma glucose concentration (mmol/L), plasma insulin concentration (mU/L) in remote compartment, and plasma insulin concentration (mU/L).  The principal disturbance variable is the glucose input.\n",
            "\n",
            "Yeast Fermentation Bioreactor\n",
            "\n",
            "Zoltan Nagy contributed this model of a continuous plug flow fermentation reactor.  Oxygen solubility is a function of the minerals that are present in solution.\n",
            "\n",
            "You can make this library better by submitting your own models or improvements to the current set. Thousands of visitors download these models every month, making this site a great platform for disseminating research and networking with interested companies. For new submissions, please use the MathWorks File Exchange or post the model on Stack Overflow.\n",
            "\n",
            " PRISM Group\n",
            "\n",
            " Advisor\n",
            "\n",
            " Online Courses\n",
            "\n",
            " Current Projects\n",
            "\n",
            " Research Assistants\n",
            "\n",
            " Past Projects\n",
            "\n",
            " Student Applications\n",
            "\n",
            " Former Students\n",
            "\n",
            " Collaborators\n",
            "\n",
            " Admin\n",
            "\n",
            "Page last modified on July 07, 2023, at 09:20 PM\n",
            "\n",
            "\n"
          ]
        }
      ]
    }
  ]
}